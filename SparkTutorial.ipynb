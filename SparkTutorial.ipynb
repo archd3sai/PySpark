{
  "nbformat": 4,
  "nbformat_minor": 0,
  "metadata": {
    "colab": {
      "name": "SparkTutorial.ipynb",
      "provenance": [],
      "collapsed_sections": []
    },
    "kernelspec": {
      "display_name": "Python 3",
      "language": "python",
      "name": "python3"
    },
    "language_info": {
      "codemirror_mode": {
        "name": "ipython",
        "version": 3
      },
      "file_extension": ".py",
      "mimetype": "text/x-python",
      "name": "python",
      "nbconvert_exporter": "python",
      "pygments_lexer": "ipython3",
      "version": "3.6.5"
    }
  },
  "cells": [
    {
      "cell_type": "markdown",
      "metadata": {
        "colab_type": "text",
        "id": "8qf-TmnsBgXd"
      },
      "source": [
        "# Download Chicago's Reported Crime Data"
      ]
    },
    {
      "cell_type": "markdown",
      "metadata": {
        "colab_type": "text",
        "id": "Dd6t0uFzuR4X"
      },
      "source": [
        "## Spark Setup Environment"
      ]
    },
    {
      "cell_type": "code",
      "metadata": {
        "colab_type": "code",
        "id": "tt7ZS1_wGgjn",
        "colab": {
          "base_uri": "https://localhost:8080/",
          "height": 503
        },
        "outputId": "16b802f3-fe03-4a4b-9993-3d4d0b072201"
      },
      "source": [
        "!apt-get update\n",
        "!apt-get install openjdk-8-jdk-headless -qq > /dev/null\n",
        "!wget -q http://archive.apache.org/dist/spark/spark-2.3.1/spark-2.3.1-bin-hadoop2.7.tgz\n",
        "!tar xf spark-2.3.1-bin-hadoop2.7.tgz\n",
        "!pip install -q findspark"
      ],
      "execution_count": 3,
      "outputs": [
        {
          "output_type": "stream",
          "text": [
            "\r0% [Working]\r            \rGet:1 http://ppa.launchpad.net/graphics-drivers/ppa/ubuntu bionic InRelease [21.3 kB]\n",
            "\r0% [Waiting for headers] [Connecting to security.ubuntu.com (91.189.91.26)] [Co\r                                                                               \rHit:2 http://archive.ubuntu.com/ubuntu bionic InRelease\n",
            "\r0% [Waiting for headers] [Connecting to security.ubuntu.com (91.189.91.26)] [Co\r                                                                               \rGet:3 http://archive.ubuntu.com/ubuntu bionic-updates InRelease [88.7 kB]\n",
            "\r                                                                               \rGet:4 http://ppa.launchpad.net/marutter/c2d4u3.5/ubuntu bionic InRelease [15.4 kB]\n",
            "\r0% [3 InRelease 64.9 kB/88.7 kB 73%] [Connecting to security.ubuntu.com (91.189\r                                                                               \rGet:5 https://cloud.r-project.org/bin/linux/ubuntu bionic-cran35/ InRelease [3,626 B]\n",
            "Get:6 http://archive.ubuntu.com/ubuntu bionic-backports InRelease [74.6 kB]\n",
            "Get:7 http://security.ubuntu.com/ubuntu bionic-security InRelease [88.7 kB]\n",
            "Ign:8 https://developer.download.nvidia.com/compute/cuda/repos/ubuntu1804/x86_64  InRelease\n",
            "Ign:9 https://developer.download.nvidia.com/compute/machine-learning/repos/ubuntu1804/x86_64  InRelease\n",
            "Hit:10 https://developer.download.nvidia.com/compute/cuda/repos/ubuntu1804/x86_64  Release\n",
            "Get:11 https://developer.download.nvidia.com/compute/machine-learning/repos/ubuntu1804/x86_64  Release [564 B]\n",
            "Get:12 https://developer.download.nvidia.com/compute/machine-learning/repos/ubuntu1804/x86_64  Release.gpg [833 B]\n",
            "Get:13 http://ppa.launchpad.net/graphics-drivers/ppa/ubuntu bionic/main amd64 Packages [34.2 kB]\n",
            "Get:14 http://ppa.launchpad.net/marutter/c2d4u3.5/ubuntu bionic/main Sources [1,742 kB]\n",
            "Get:15 http://ppa.launchpad.net/marutter/c2d4u3.5/ubuntu bionic/main amd64 Packages [840 kB]\n",
            "Get:16 https://cloud.r-project.org/bin/linux/ubuntu bionic-cran35/ Packages [75.1 kB]\n",
            "Get:17 http://archive.ubuntu.com/ubuntu bionic-updates/multiverse amd64 Packages [10.5 kB]\n",
            "Get:18 http://archive.ubuntu.com/ubuntu bionic-updates/universe amd64 Packages [1,321 kB]\n",
            "Get:19 http://archive.ubuntu.com/ubuntu bionic-updates/main amd64 Packages [1,056 kB]\n",
            "Get:20 http://archive.ubuntu.com/ubuntu bionic-updates/restricted amd64 Packages [32.7 kB]\n",
            "Get:21 http://archive.ubuntu.com/ubuntu bionic-backports/universe amd64 Packages [4,244 B]\n",
            "Get:23 https://developer.download.nvidia.com/compute/machine-learning/repos/ubuntu1804/x86_64  Packages [25.5 kB]\n",
            "Get:24 http://security.ubuntu.com/ubuntu bionic-security/restricted amd64 Packages [19.2 kB]\n",
            "Get:25 http://security.ubuntu.com/ubuntu bionic-security/multiverse amd64 Packages [6,783 B]\n",
            "Get:26 http://security.ubuntu.com/ubuntu bionic-security/main amd64 Packages [760 kB]\n",
            "Get:27 http://security.ubuntu.com/ubuntu bionic-security/universe amd64 Packages [794 kB]\n",
            "Fetched 7,015 kB in 3s (2,424 kB/s)\n",
            "Reading package lists... Done\n"
          ],
          "name": "stdout"
        }
      ]
    },
    {
      "cell_type": "code",
      "metadata": {
        "colab_type": "code",
        "id": "sdOOq4twHN1K",
        "colab": {
          "base_uri": "https://localhost:8080/",
          "height": 219
        },
        "outputId": "2b33927c-7ebb-47f5-cd38-412c4ef4e7b6"
      },
      "source": [
        "import os\n",
        "os.environ[\"JAVA_HOME\"] = \"/usr/lib/jvm/java-8-openjdk-amd64\"\n",
        "os.environ[\"SPARK_HOME\"] = \"/content/spark-2.3.1-bin-hadoop2.7\"\n",
        "\n",
        "import findspark\n",
        "findspark.init()\n",
        "from pyspark import SparkContext\n",
        "sc = SparkContext.getOrCreate()\n",
        "\n",
        "import pyspark\n",
        "from pyspark.sql import SparkSession\n",
        "spark = SparkSession.builder.getOrCreate() \n",
        "spark"
      ],
      "execution_count": 4,
      "outputs": [
        {
          "output_type": "execute_result",
          "data": {
            "text/html": [
              "\n",
              "            <div>\n",
              "                <p><b>SparkSession - in-memory</b></p>\n",
              "                \n",
              "        <div>\n",
              "            <p><b>SparkContext</b></p>\n",
              "\n",
              "            <p><a href=\"http://c7623677b294:4040\">Spark UI</a></p>\n",
              "\n",
              "            <dl>\n",
              "              <dt>Version</dt>\n",
              "                <dd><code>v2.3.1</code></dd>\n",
              "              <dt>Master</dt>\n",
              "                <dd><code>local[*]</code></dd>\n",
              "              <dt>AppName</dt>\n",
              "                <dd><code>pyspark-shell</code></dd>\n",
              "            </dl>\n",
              "        </div>\n",
              "        \n",
              "            </div>\n",
              "        "
            ],
            "text/plain": [
              "<pyspark.sql.session.SparkSession at 0x7f95265cfcf8>"
            ]
          },
          "metadata": {
            "tags": []
          },
          "execution_count": 4
        }
      ]
    },
    {
      "cell_type": "markdown",
      "metadata": {
        "colab_type": "text",
        "id": "0ysUlfFrN5OD"
      },
      "source": [
        "## Downloading and preprocessing Chicago's Reported Crime Data"
      ]
    },
    {
      "cell_type": "code",
      "metadata": {
        "colab_type": "code",
        "id": "FDtw5Hy3N-pV",
        "colab": {
          "base_uri": "https://localhost:8080/",
          "height": 208
        },
        "outputId": "618863e7-d7d0-4a35-b4c6-1f9df3cdae0a"
      },
      "source": [
        "!wget https://data.cityofchicago.org/api/views/ijzp-q8t2/rows.csv?accessType=DOWNLOAD"
      ],
      "execution_count": 5,
      "outputs": [
        {
          "output_type": "stream",
          "text": [
            "--2019-12-08 15:36:41--  https://data.cityofchicago.org/api/views/ijzp-q8t2/rows.csv?accessType=DOWNLOAD\n",
            "Resolving data.cityofchicago.org (data.cityofchicago.org)... 52.206.140.199, 52.206.68.26, 52.206.140.205\n",
            "Connecting to data.cityofchicago.org (data.cityofchicago.org)|52.206.140.199|:443... connected.\n",
            "HTTP request sent, awaiting response... 200 OK\n",
            "Length: unspecified [text/csv]\n",
            "Saving to: ‘rows.csv?accessType=DOWNLOAD’\n",
            "\n",
            "rows.csv?accessType     [     <=>            ]   1.54G  2.91MB/s    in 9m 14s  \n",
            "\n",
            "2019-12-08 15:45:55 (2.85 MB/s) - ‘rows.csv?accessType=DOWNLOAD’ saved [1656030457]\n",
            "\n"
          ],
          "name": "stdout"
        }
      ]
    },
    {
      "cell_type": "code",
      "metadata": {
        "colab_type": "code",
        "id": "v4P5mMONYyVd",
        "colab": {
          "base_uri": "https://localhost:8080/",
          "height": 52
        },
        "outputId": "39364355-6bc1-4369-a34e-43a98fe1549e"
      },
      "source": [
        "!ls"
      ],
      "execution_count": 6,
      "outputs": [
        {
          "output_type": "stream",
          "text": [
            "'rows.csv?accessType=DOWNLOAD'\t spark-2.3.1-bin-hadoop2.7\n",
            " sample_data\t\t\t spark-2.3.1-bin-hadoop2.7.tgz\n"
          ],
          "name": "stdout"
        }
      ]
    },
    {
      "cell_type": "code",
      "metadata": {
        "colab_type": "code",
        "id": "MzpuCsvDPWM-",
        "colab": {}
      },
      "source": [
        "!mv rows.csv\\?accessType\\=DOWNLOAD reported-crimes.csv  "
      ],
      "execution_count": 0,
      "outputs": []
    },
    {
      "cell_type": "code",
      "metadata": {
        "colab_type": "code",
        "id": "9-1cK0nPNS95",
        "colab": {
          "base_uri": "https://localhost:8080/",
          "height": 228
        },
        "outputId": "207e12e4-a756-4ddd-c9f9-79e22f9ce73f"
      },
      "source": [
        "from pyspark.sql.functions import to_timestamp,col,lit\n",
        "rc = spark.read.csv('reported-crimes.csv',header=True).withColumn('Date',to_timestamp(col('Date'),'MM/dd/yyyy hh:mm:ss a')).filter(col('Date') <= lit('2018-11-11'))\n",
        "rc.show(5)"
      ],
      "execution_count": 10,
      "outputs": [
        {
          "output_type": "stream",
          "text": [
            "+--------+-----------+-------------------+--------------------+----+-------------------+--------------------+--------------------+------+--------+----+--------+----+--------------+--------+------------+------------+----+--------------------+--------+---------+--------+\n",
            "|      ID|Case Number|               Date|               Block|IUCR|       Primary Type|         Description|Location Description|Arrest|Domestic|Beat|District|Ward|Community Area|FBI Code|X Coordinate|Y Coordinate|Year|          Updated On|Latitude|Longitude|Location|\n",
            "+--------+-----------+-------------------+--------------------+----+-------------------+--------------------+--------------------+------+--------+----+--------+----+--------------+--------+------------+------------+----+--------------------+--------+---------+--------+\n",
            "|11034701|   JA366925|2001-01-01 11:00:00|     016XX E 86TH PL|1153| DECEPTIVE PRACTICE|FINANCIAL IDENTIT...|           RESIDENCE| false|   false|0412|     004|   8|            45|      11|        null|        null|2001|08/05/2017 03:50:...|    null|     null|    null|\n",
            "|11227287|   JB147188|2017-10-08 03:00:00|  092XX S RACINE AVE|0281|CRIM SEXUAL ASSAULT|      NON-AGGRAVATED|           RESIDENCE| false|   false|2222|     022|  21|            73|      02|        null|        null|2017|02/11/2018 03:57:...|    null|     null|    null|\n",
            "|11227583|   JB147595|2017-03-28 14:00:00|     026XX W 79TH ST|0620|           BURGLARY|      UNLAWFUL ENTRY|               OTHER| false|   false|0835|     008|  18|            70|      05|        null|        null|2017|02/11/2018 03:57:...|    null|     null|    null|\n",
            "|11227293|   JB147230|2017-09-09 20:17:00|060XX S EBERHART AVE|0810|              THEFT|           OVER $500|           RESIDENCE| false|   false|0313|     003|  20|            42|      06|        null|        null|2017|02/11/2018 03:57:...|    null|     null|    null|\n",
            "|11227634|   JB147599|2017-08-26 10:00:00| 001XX W RANDOLPH ST|0281|CRIM SEXUAL ASSAULT|      NON-AGGRAVATED|         HOTEL/MOTEL| false|   false|0122|     001|  42|            32|      02|        null|        null|2017|02/11/2018 03:57:...|    null|     null|    null|\n",
            "+--------+-----------+-------------------+--------------------+----+-------------------+--------------------+--------------------+------+--------+----+--------+----+--------------+--------+------------+------------+----+--------------------+--------+---------+--------+\n",
            "only showing top 5 rows\n",
            "\n"
          ],
          "name": "stdout"
        }
      ]
    },
    {
      "cell_type": "markdown",
      "metadata": {
        "id": "H6uh98TXMong",
        "colab_type": "text"
      },
      "source": [
        "## Schema"
      ]
    },
    {
      "cell_type": "code",
      "metadata": {
        "id": "t88W9XKYRK1j",
        "colab_type": "code",
        "colab": {
          "base_uri": "https://localhost:8080/",
          "height": 433
        },
        "outputId": "f49065ea-a239-46ac-b0e3-ec8db3df5fa6"
      },
      "source": [
        "rc.printSchema()"
      ],
      "execution_count": 15,
      "outputs": [
        {
          "output_type": "stream",
          "text": [
            "root\n",
            " |-- ID: string (nullable = true)\n",
            " |-- Case Number: string (nullable = true)\n",
            " |-- Date: timestamp (nullable = true)\n",
            " |-- Block: string (nullable = true)\n",
            " |-- IUCR: string (nullable = true)\n",
            " |-- Primary Type: string (nullable = true)\n",
            " |-- Description: string (nullable = true)\n",
            " |-- Location Description: string (nullable = true)\n",
            " |-- Arrest: string (nullable = true)\n",
            " |-- Domestic: string (nullable = true)\n",
            " |-- Beat: string (nullable = true)\n",
            " |-- District: string (nullable = true)\n",
            " |-- Ward: string (nullable = true)\n",
            " |-- Community Area: string (nullable = true)\n",
            " |-- FBI Code: string (nullable = true)\n",
            " |-- X Coordinate: string (nullable = true)\n",
            " |-- Y Coordinate: string (nullable = true)\n",
            " |-- Year: string (nullable = true)\n",
            " |-- Updated On: string (nullable = true)\n",
            " |-- Latitude: string (nullable = true)\n",
            " |-- Longitude: string (nullable = true)\n",
            " |-- Location: string (nullable = true)\n",
            "\n"
          ],
          "name": "stdout"
        }
      ]
    },
    {
      "cell_type": "code",
      "metadata": {
        "id": "v67iXjtzNKgO",
        "colab_type": "code",
        "colab": {}
      },
      "source": [
        "from pyspark.sql.types import StructField, StructType, StringType, BooleanType, IntegerType, TimestampType, DoubleType"
      ],
      "execution_count": 0,
      "outputs": []
    },
    {
      "cell_type": "code",
      "metadata": {
        "id": "2zujTsPyMrsQ",
        "colab_type": "code",
        "colab": {
          "base_uri": "https://localhost:8080/",
          "height": 399
        },
        "outputId": "ec3917e1-9cb9-4f10-ea6a-d18d5ae8145f"
      },
      "source": [
        "rc.columns"
      ],
      "execution_count": 14,
      "outputs": [
        {
          "output_type": "execute_result",
          "data": {
            "text/plain": [
              "['ID',\n",
              " 'Case Number',\n",
              " 'Date',\n",
              " 'Block',\n",
              " 'IUCR',\n",
              " 'Primary Type',\n",
              " 'Description',\n",
              " 'Location Description',\n",
              " 'Arrest',\n",
              " 'Domestic',\n",
              " 'Beat',\n",
              " 'District',\n",
              " 'Ward',\n",
              " 'Community Area',\n",
              " 'FBI Code',\n",
              " 'X Coordinate',\n",
              " 'Y Coordinate',\n",
              " 'Year',\n",
              " 'Updated On',\n",
              " 'Latitude',\n",
              " 'Longitude',\n",
              " 'Location']"
            ]
          },
          "metadata": {
            "tags": []
          },
          "execution_count": 14
        }
      ]
    },
    {
      "cell_type": "code",
      "metadata": {
        "id": "NtNenvY_M3t-",
        "colab_type": "code",
        "colab": {}
      },
      "source": [
        "labels = [('ID', StringType()),\n",
        "        ('Case Number', StringType()),\n",
        "        ('Date', TimestampType()),\n",
        "        ('Block', StringType()),\n",
        "        ('IUCR', StringType()),\n",
        "        ('Primary Type', StringType()),\n",
        "        ('Description', StringType()),\n",
        "        ('Location Description', StringType()),\n",
        "        ('Arrest', StringType()),\n",
        "        ('Domestic', BooleanType()),\n",
        "        ('Beat', StringType()),\n",
        "        ('District', StringType()),\n",
        "        ('Ward', StringType()),\n",
        "        ('Community Area', StringType()),\n",
        "        ('FBI Code', StringType()),\n",
        "        ('X Coordinate', StringType()),\n",
        "        ('Y Coordinate', StringType()),\n",
        "        ('Year', IntegerType()),\n",
        "        ('Updated On', StringType()),\n",
        "        ('Latitude', DoubleType()),\n",
        "        ('Longitude', DoubleType()),\n",
        "        ('Location', StringType())]"
      ],
      "execution_count": 0,
      "outputs": []
    },
    {
      "cell_type": "code",
      "metadata": {
        "id": "K-2rQVmzPcra",
        "colab_type": "code",
        "colab": {}
      },
      "source": [
        "schema = StructType([StructField(x[0], x[1], True) for x in labels])"
      ],
      "execution_count": 0,
      "outputs": []
    },
    {
      "cell_type": "code",
      "metadata": {
        "id": "ncRWUEk2P90k",
        "colab_type": "code",
        "colab": {
          "base_uri": "https://localhost:8080/",
          "height": 433
        },
        "outputId": "813a6d5e-b482-4caa-f1ac-fc320686ecf0"
      },
      "source": [
        "rc = spark.read.csv('reported-crimes.csv', schema = schema)\n",
        "rc.printSchema()"
      ],
      "execution_count": 25,
      "outputs": [
        {
          "output_type": "stream",
          "text": [
            "root\n",
            " |-- ID: string (nullable = true)\n",
            " |-- Case Number: string (nullable = true)\n",
            " |-- Date: timestamp (nullable = true)\n",
            " |-- Block: string (nullable = true)\n",
            " |-- IUCR: string (nullable = true)\n",
            " |-- Primary Type: string (nullable = true)\n",
            " |-- Description: string (nullable = true)\n",
            " |-- Location Description: string (nullable = true)\n",
            " |-- Arrest: string (nullable = true)\n",
            " |-- Domestic: boolean (nullable = true)\n",
            " |-- Beat: string (nullable = true)\n",
            " |-- District: string (nullable = true)\n",
            " |-- Ward: string (nullable = true)\n",
            " |-- Community Area: string (nullable = true)\n",
            " |-- FBI Code: string (nullable = true)\n",
            " |-- X Coordinate: string (nullable = true)\n",
            " |-- Y Coordinate: string (nullable = true)\n",
            " |-- Year: integer (nullable = true)\n",
            " |-- Updated On: string (nullable = true)\n",
            " |-- Latitude: double (nullable = true)\n",
            " |-- Longitude: double (nullable = true)\n",
            " |-- Location: string (nullable = true)\n",
            "\n"
          ],
          "name": "stdout"
        }
      ]
    },
    {
      "cell_type": "code",
      "metadata": {
        "id": "TjsJq2AzQrBJ",
        "colab_type": "code",
        "colab": {
          "base_uri": "https://localhost:8080/",
          "height": 228
        },
        "outputId": "c2fc029e-35af-400d-8880-db076d2f7422"
      },
      "source": [
        "rc.show(5)"
      ],
      "execution_count": 26,
      "outputs": [
        {
          "output_type": "stream",
          "text": [
            "+----+-----------+----+-----+----+------------+-----------+--------------------+------+--------+----+--------+----+--------------+--------+------------+------------+----+----------+--------+---------+--------+\n",
            "|  ID|Case Number|Date|Block|IUCR|Primary Type|Description|Location Description|Arrest|Domestic|Beat|District|Ward|Community Area|FBI Code|X Coordinate|Y Coordinate|Year|Updated On|Latitude|Longitude|Location|\n",
            "+----+-----------+----+-----+----+------------+-----------+--------------------+------+--------+----+--------+----+--------------+--------+------------+------------+----+----------+--------+---------+--------+\n",
            "|null|       null|null| null|null|        null|       null|                null|  null|    null|null|    null|null|          null|    null|        null|        null|null|      null|    null|     null|    null|\n",
            "|null|       null|null| null|null|        null|       null|                null|  null|    null|null|    null|null|          null|    null|        null|        null|null|      null|    null|     null|    null|\n",
            "|null|       null|null| null|null|        null|       null|                null|  null|    null|null|    null|null|          null|    null|        null|        null|null|      null|    null|     null|    null|\n",
            "|null|       null|null| null|null|        null|       null|                null|  null|    null|null|    null|null|          null|    null|        null|        null|null|      null|    null|     null|    null|\n",
            "|null|       null|null| null|null|        null|       null|                null|  null|    null|null|    null|null|          null|    null|        null|        null|null|      null|    null|     null|    null|\n",
            "+----+-----------+----+-----+----+------------+-----------+--------------------+------+--------+----+--------+----+--------------+--------+------------+------------+----+----------+--------+---------+--------+\n",
            "only showing top 5 rows\n",
            "\n"
          ],
          "name": "stdout"
        }
      ]
    },
    {
      "cell_type": "markdown",
      "metadata": {
        "id": "lKOGfCTNQ6-M",
        "colab_type": "text"
      },
      "source": [
        "That shows that some columns cannot be converted to the given type."
      ]
    },
    {
      "cell_type": "code",
      "metadata": {
        "id": "0X8_Jgv7Q_3N",
        "colab_type": "code",
        "colab": {
          "base_uri": "https://localhost:8080/",
          "height": 228
        },
        "outputId": "c17b0570-504b-4096-cf00-60d9733f9b23"
      },
      "source": [
        "rc = spark.read.csv('reported-crimes.csv',header=True).withColumn('Date',to_timestamp(col('Date'),'MM/dd/yyyy hh:mm:ss a')).filter(col('Date') <= lit('2018-11-11'))\n",
        "rc.show(5)"
      ],
      "execution_count": 28,
      "outputs": [
        {
          "output_type": "stream",
          "text": [
            "+--------+-----------+-------------------+--------------------+----+-------------------+--------------------+--------------------+------+--------+----+--------+----+--------------+--------+------------+------------+----+--------------------+--------+---------+--------+\n",
            "|      ID|Case Number|               Date|               Block|IUCR|       Primary Type|         Description|Location Description|Arrest|Domestic|Beat|District|Ward|Community Area|FBI Code|X Coordinate|Y Coordinate|Year|          Updated On|Latitude|Longitude|Location|\n",
            "+--------+-----------+-------------------+--------------------+----+-------------------+--------------------+--------------------+------+--------+----+--------+----+--------------+--------+------------+------------+----+--------------------+--------+---------+--------+\n",
            "|11034701|   JA366925|2001-01-01 11:00:00|     016XX E 86TH PL|1153| DECEPTIVE PRACTICE|FINANCIAL IDENTIT...|           RESIDENCE| false|   false|0412|     004|   8|            45|      11|        null|        null|2001|08/05/2017 03:50:...|    null|     null|    null|\n",
            "|11227287|   JB147188|2017-10-08 03:00:00|  092XX S RACINE AVE|0281|CRIM SEXUAL ASSAULT|      NON-AGGRAVATED|           RESIDENCE| false|   false|2222|     022|  21|            73|      02|        null|        null|2017|02/11/2018 03:57:...|    null|     null|    null|\n",
            "|11227583|   JB147595|2017-03-28 14:00:00|     026XX W 79TH ST|0620|           BURGLARY|      UNLAWFUL ENTRY|               OTHER| false|   false|0835|     008|  18|            70|      05|        null|        null|2017|02/11/2018 03:57:...|    null|     null|    null|\n",
            "|11227293|   JB147230|2017-09-09 20:17:00|060XX S EBERHART AVE|0810|              THEFT|           OVER $500|           RESIDENCE| false|   false|0313|     003|  20|            42|      06|        null|        null|2017|02/11/2018 03:57:...|    null|     null|    null|\n",
            "|11227634|   JB147599|2017-08-26 10:00:00| 001XX W RANDOLPH ST|0281|CRIM SEXUAL ASSAULT|      NON-AGGRAVATED|         HOTEL/MOTEL| false|   false|0122|     001|  42|            32|      02|        null|        null|2017|02/11/2018 03:57:...|    null|     null|    null|\n",
            "+--------+-----------+-------------------+--------------------+----+-------------------+--------------------+--------------------+------+--------+----+--------+----+--------------+--------+------------+------------+----+--------------------+--------+---------+--------+\n",
            "only showing top 5 rows\n",
            "\n"
          ],
          "name": "stdout"
        }
      ]
    },
    {
      "cell_type": "code",
      "metadata": {
        "id": "m9QyY-gvSa5k",
        "colab_type": "code",
        "colab": {
          "base_uri": "https://localhost:8080/",
          "height": 208
        },
        "outputId": "79960d74-13b9-4e51-f678-712fc2249f7f"
      },
      "source": [
        "rc.select('Case Number', 'Date', 'year').show(5)"
      ],
      "execution_count": 29,
      "outputs": [
        {
          "output_type": "stream",
          "text": [
            "+-----------+-------------------+----+\n",
            "|Case Number|               Date|year|\n",
            "+-----------+-------------------+----+\n",
            "|   JA366925|2001-01-01 11:00:00|2001|\n",
            "|   JB147188|2017-10-08 03:00:00|2017|\n",
            "|   JB147595|2017-03-28 14:00:00|2017|\n",
            "|   JB147230|2017-09-09 20:17:00|2017|\n",
            "|   JB147599|2017-08-26 10:00:00|2017|\n",
            "+-----------+-------------------+----+\n",
            "only showing top 5 rows\n",
            "\n"
          ],
          "name": "stdout"
        }
      ]
    },
    {
      "cell_type": "markdown",
      "metadata": {
        "id": "1vkS48wSZllZ",
        "colab_type": "text"
      },
      "source": [
        "## Working with rows"
      ]
    },
    {
      "cell_type": "code",
      "metadata": {
        "id": "VrEE8I2PS-Pc",
        "colab_type": "code",
        "colab": {
          "base_uri": "https://localhost:8080/",
          "height": 315
        },
        "outputId": "5ea13593-6354-4260-b379-b92f51a2c1f6"
      },
      "source": [
        "oneDay = spark.read.csv('reported-crimes.csv',header=True).withColumn('Date',to_timestamp(col('Date'),'MM/dd/yyyy hh:mm:ss a')).filter(col('Date') == lit('2018-11-11'))\n",
        "oneDay.show()"
      ],
      "execution_count": 36,
      "outputs": [
        {
          "output_type": "stream",
          "text": [
            "+--------+-----------+-------------------+--------------------+----+-------------------+--------------------+--------------------+------+--------+----+--------+----+--------------+--------+------------+------------+----+--------------------+------------+-------------+--------------------+\n",
            "|      ID|Case Number|               Date|               Block|IUCR|       Primary Type|         Description|Location Description|Arrest|Domestic|Beat|District|Ward|Community Area|FBI Code|X Coordinate|Y Coordinate|Year|          Updated On|    Latitude|    Longitude|            Location|\n",
            "+--------+-----------+-------------------+--------------------+----+-------------------+--------------------+--------------------+------+--------+----+--------+----+--------------+--------+------------+------------+----+--------------------+------------+-------------+--------------------+\n",
            "|11595518|   JC152109|2018-11-11 00:00:00|043XX N GREENVIEW...|1153| DECEPTIVE PRACTICE|FINANCIAL IDENTIT...|  SMALL RETAIL STORE| false|   false|1912|     019|  47|             6|      11|        null|        null|2018|02/15/2019 04:04:...|        null|         null|                null|\n",
            "|11504097|   JB511773|2018-11-11 00:00:00|003XX S ST LOUIS AVE|1320|    CRIMINAL DAMAGE|          TO VEHICLE|              STREET| false|   false|1133|     011|  28|            27|      14|     1153064|     1898239|2018|11/18/2018 04:11:...|41.876617517|-87.713463403|(41.876617517, -8...|\n",
            "|11504126|   JB511829|2018-11-11 00:00:00|    012XX N NOBLE ST|1320|    CRIMINAL DAMAGE|          TO VEHICLE|              STREET| false|   false|1433|     014|   2|            24|      14|     1166828|     1908386|2018|11/18/2018 04:11:...|41.904177725|-87.662635226|(41.904177725, -8...|\n",
            "|11504529|   JB512336|2018-11-11 00:00:00|     026XX W 21ST ST|1320|    CRIMINAL DAMAGE|          TO VEHICLE|              STREET| false|   false|1023|     010|  24|            30|      14|     1159124|     1889973|2018|11/18/2018 04:11:...|41.853812529| -87.69143988|(41.853812529, -8...|\n",
            "|11504835|   JB512723|2018-11-11 00:00:00|011XX W GARFIELD ...|1305|    CRIMINAL DAMAGE| CRIMINAL DEFACEMENT|           RESIDENCE| false|   false|0712|     007|  16|            68|      14|     1169461|     1868186|2018|11/18/2018 04:11:...|41.793808521|-87.654131491|(41.793808521, -8...|\n",
            "|11505581|   JB513620|2018-11-11 00:00:00|  049XX S KEELER AVE|0486|            BATTERY|DOMESTIC BATTERY ...|           RESIDENCE| false|    true|0815|     008|  14|            57|     08B|     1149195|     1871583|2018|11/18/2018 04:11:...|41.803545745|-87.728358627|(41.803545745, -8...|\n",
            "|11505877|   JB514053|2018-11-11 00:00:00| 040XX S PRAIRIE AVE|0820|              THEFT|      $500 AND UNDER|               OTHER| false|   false|0213|     002|   3|            38|      06|     1178707|     1878242|2018|11/18/2018 04:11:...|41.821197606|-87.619921139|(41.821197606, -8...|\n",
            "|11507744|   JB516509|2018-11-11 00:00:00|   033XX S DAMEN AVE|0820|              THEFT|      $500 AND UNDER|           RESIDENCE| false|   false|0912|     009|  12|            59|      06|     1163564|     1882504|2018|11/18/2018 04:11:...|41.833224596|-87.675353441|(41.833224596, -8...|\n",
            "|11511859|   JB521800|2018-11-11 00:00:00|   002XX W CERMAK RD|1130| DECEPTIVE PRACTICE|FRAUD OR CONFIDEN...|           RESIDENCE| false|   false|0914|     009|  25|            34|      11|     1174908|     1889739|2018|11/22/2018 04:00:...|41.852832024| -87.63351404|(41.852832024, -8...|\n",
            "|11513303|   JB523990|2018-11-11 00:00:00|  007XX S CICERO AVE|0281|CRIM SEXUAL ASSAULT|      NON-AGGRAVATED|              STREET| false|   false|1131|     011|  24|            25|      02|     1144511|     1896107|2018|11/24/2018 04:03:...|41.870932257|-87.744921277|(41.870932257, -8...|\n",
            "|11530397|   JB546163|2018-11-11 00:00:00|  047XX N BERNARD ST|0890|              THEFT|       FROM BUILDING|           APARTMENT| false|   false|1723|     017|  33|            14|      06|     1152530|     1931235|2018|12/12/2018 04:09:...|41.967171933|-87.714549886|(41.967171933, -8...|\n",
            "+--------+-----------+-------------------+--------------------+----+-------------------+--------------------+--------------------+------+--------+----+--------+----+--------------+--------+------------+------------+----+--------------------+------------+-------------+--------------------+\n",
            "\n"
          ],
          "name": "stdout"
        }
      ]
    },
    {
      "cell_type": "code",
      "metadata": {
        "id": "W5_kR-QYaKg3",
        "colab_type": "code",
        "colab": {
          "base_uri": "https://localhost:8080/",
          "height": 35
        },
        "outputId": "bc0ebe53-66ab-473f-a3a8-77421e741368"
      },
      "source": [
        "oneDay.count()"
      ],
      "execution_count": 37,
      "outputs": [
        {
          "output_type": "execute_result",
          "data": {
            "text/plain": [
              "11"
            ]
          },
          "metadata": {
            "tags": []
          },
          "execution_count": 37
        }
      ]
    },
    {
      "cell_type": "code",
      "metadata": {
        "id": "Iz3mgFfgaSXk",
        "colab_type": "code",
        "colab": {
          "base_uri": "https://localhost:8080/",
          "height": 228
        },
        "outputId": "d0d9cb4b-7611-4f4d-e875-c23f2d678ef3"
      },
      "source": [
        "rc.union(oneDay).orderBy('Date', ascending = False).show(5)"
      ],
      "execution_count": 38,
      "outputs": [
        {
          "output_type": "stream",
          "text": [
            "+--------+-----------+-------------------+--------------------+----+------------------+--------------------+--------------------+------+--------+----+--------+----+--------------+--------+------------+------------+----+--------------------+------------+-------------+--------------------+\n",
            "|      ID|Case Number|               Date|               Block|IUCR|      Primary Type|         Description|Location Description|Arrest|Domestic|Beat|District|Ward|Community Area|FBI Code|X Coordinate|Y Coordinate|Year|          Updated On|    Latitude|    Longitude|            Location|\n",
            "+--------+-----------+-------------------+--------------------+----+------------------+--------------------+--------------------+------+--------+----+--------+----+--------------+--------+------------+------------+----+--------------------+------------+-------------+--------------------+\n",
            "|11504835|   JB512723|2018-11-11 00:00:00|011XX W GARFIELD ...|1305|   CRIMINAL DAMAGE| CRIMINAL DEFACEMENT|           RESIDENCE| false|   false|0712|     007|  16|            68|      14|     1169461|     1868186|2018|11/18/2018 04:11:...|41.793808521|-87.654131491|(41.793808521, -8...|\n",
            "|11504529|   JB512336|2018-11-11 00:00:00|     026XX W 21ST ST|1320|   CRIMINAL DAMAGE|          TO VEHICLE|              STREET| false|   false|1023|     010|  24|            30|      14|     1159124|     1889973|2018|11/18/2018 04:11:...|41.853812529| -87.69143988|(41.853812529, -8...|\n",
            "|11504126|   JB511829|2018-11-11 00:00:00|    012XX N NOBLE ST|1320|   CRIMINAL DAMAGE|          TO VEHICLE|              STREET| false|   false|1433|     014|   2|            24|      14|     1166828|     1908386|2018|11/18/2018 04:11:...|41.904177725|-87.662635226|(41.904177725, -8...|\n",
            "|11595518|   JC152109|2018-11-11 00:00:00|043XX N GREENVIEW...|1153|DECEPTIVE PRACTICE|FINANCIAL IDENTIT...|  SMALL RETAIL STORE| false|   false|1912|     019|  47|             6|      11|        null|        null|2018|02/15/2019 04:04:...|        null|         null|                null|\n",
            "|11504097|   JB511773|2018-11-11 00:00:00|003XX S ST LOUIS AVE|1320|   CRIMINAL DAMAGE|          TO VEHICLE|              STREET| false|   false|1133|     011|  28|            27|      14|     1153064|     1898239|2018|11/18/2018 04:11:...|41.876617517|-87.713463403|(41.876617517, -8...|\n",
            "+--------+-----------+-------------------+--------------------+----+------------------+--------------------+--------------------+------+--------+----+--------+----+--------------+--------+------------+------------+----+--------------------+------------+-------------+--------------------+\n",
            "only showing top 5 rows\n",
            "\n"
          ],
          "name": "stdout"
        }
      ]
    },
    {
      "cell_type": "markdown",
      "metadata": {
        "id": "9FD2NinCasNh",
        "colab_type": "text"
      },
      "source": [
        "**Top 10 number of reported crimes by primary type in descending order of occurance**"
      ]
    },
    {
      "cell_type": "code",
      "metadata": {
        "id": "2dajeZ5ta5Og",
        "colab_type": "code",
        "colab": {
          "base_uri": "https://localhost:8080/",
          "height": 468
        },
        "outputId": "2167e0fb-2214-4cef-d749-273073b85cec"
      },
      "source": [
        "rc.groupBy('Primary Type').count().orderBy('count', ascending = False).show()"
      ],
      "execution_count": 39,
      "outputs": [
        {
          "output_type": "stream",
          "text": [
            "+--------------------+-------+\n",
            "|        Primary Type|  count|\n",
            "+--------------------+-------+\n",
            "|               THEFT|1418398|\n",
            "|             BATTERY|1232207|\n",
            "|     CRIMINAL DAMAGE| 771495|\n",
            "|           NARCOTICS| 711574|\n",
            "|       OTHER OFFENSE| 418800|\n",
            "|             ASSAULT| 418501|\n",
            "|            BURGLARY| 388029|\n",
            "| MOTOR VEHICLE THEFT| 314142|\n",
            "|  DECEPTIVE PRACTICE| 265073|\n",
            "|             ROBBERY| 255600|\n",
            "|   CRIMINAL TRESPASS| 193370|\n",
            "|   WEAPONS VIOLATION|  70663|\n",
            "|        PROSTITUTION|  68329|\n",
            "|PUBLIC PEACE VIOL...|  47785|\n",
            "|OFFENSE INVOLVING...|  45637|\n",
            "| CRIM SEXUAL ASSAULT|  27355|\n",
            "|         SEX OFFENSE|  25259|\n",
            "|INTERFERENCE WITH...|  15140|\n",
            "|            GAMBLING|  14422|\n",
            "|LIQUOR LAW VIOLATION|  14067|\n",
            "+--------------------+-------+\n",
            "only showing top 20 rows\n",
            "\n"
          ],
          "name": "stdout"
        }
      ]
    },
    {
      "cell_type": "markdown",
      "metadata": {
        "id": "-K-fYtihbZoa",
        "colab_type": "text"
      },
      "source": [
        "**Find the percentage of reported crimes that resulted in an arrest**"
      ]
    },
    {
      "cell_type": "code",
      "metadata": {
        "id": "UTASkNAmcc0b",
        "colab_type": "code",
        "colab": {
          "base_uri": "https://localhost:8080/",
          "height": 139
        },
        "outputId": "33642ea5-34e4-4a8d-f91b-8522711229c7"
      },
      "source": [
        "rc.groupBy('Arrest').count().show()"
      ],
      "execution_count": 43,
      "outputs": [
        {
          "output_type": "stream",
          "text": [
            "+------+-------+\n",
            "|Arrest|  count|\n",
            "+------+-------+\n",
            "| false|4878035|\n",
            "|  true|1873832|\n",
            "+------+-------+\n",
            "\n"
          ],
          "name": "stdout"
        }
      ]
    },
    {
      "cell_type": "code",
      "metadata": {
        "id": "Uzc2Rl_NbilL",
        "colab_type": "code",
        "colab": {}
      },
      "source": [
        "total_reported_crimes = rc.count()"
      ],
      "execution_count": 0,
      "outputs": []
    },
    {
      "cell_type": "code",
      "metadata": {
        "id": "H-G1SrgScn_Z",
        "colab_type": "code",
        "colab": {}
      },
      "source": [
        "total_arrest = rc.filter(col('Arrest') == 'true').count()"
      ],
      "execution_count": 0,
      "outputs": []
    },
    {
      "cell_type": "code",
      "metadata": {
        "id": "StOjHFnmc_hB",
        "colab_type": "code",
        "colab": {}
      },
      "source": [
        "percentage_arrest = total_arrest * 100 / total_reported_crimes"
      ],
      "execution_count": 0,
      "outputs": []
    },
    {
      "cell_type": "code",
      "metadata": {
        "id": "kvK7j_pydKy7",
        "colab_type": "code",
        "colab": {
          "base_uri": "https://localhost:8080/",
          "height": 35
        },
        "outputId": "963f05ed-1714-4383-cc93-3de0cd500598"
      },
      "source": [
        "print(round(percentage_arrest, 2))"
      ],
      "execution_count": 48,
      "outputs": [
        {
          "output_type": "stream",
          "text": [
            "27.75\n"
          ],
          "name": "stdout"
        }
      ]
    },
    {
      "cell_type": "markdown",
      "metadata": {
        "id": "PGy_3YRvbjQ7",
        "colab_type": "text"
      },
      "source": [
        "**Find the top three locations for reported crimes**"
      ]
    },
    {
      "cell_type": "code",
      "metadata": {
        "id": "yGtesfR8bo13",
        "colab_type": "code",
        "colab": {
          "base_uri": "https://localhost:8080/",
          "height": 173
        },
        "outputId": "943e721f-6b15-46ab-b8fb-98cc9ee341e5"
      },
      "source": [
        "rc.groupBy('Location Description').count().orderBy('count', ascending = False).show(3)"
      ],
      "execution_count": 50,
      "outputs": [
        {
          "output_type": "stream",
          "text": [
            "+--------------------+-------+\n",
            "|Location Description|  count|\n",
            "+--------------------+-------+\n",
            "|              STREET|1770556|\n",
            "|           RESIDENCE|1144316|\n",
            "|           APARTMENT| 698024|\n",
            "+--------------------+-------+\n",
            "only showing top 3 rows\n",
            "\n"
          ],
          "name": "stdout"
        }
      ]
    },
    {
      "cell_type": "markdown",
      "metadata": {
        "id": "fkPIfMvfeAya",
        "colab_type": "text"
      },
      "source": [
        "## Functions"
      ]
    },
    {
      "cell_type": "code",
      "metadata": {
        "id": "GgKHF9rteCJr",
        "colab_type": "code",
        "colab": {}
      },
      "source": [
        "from pyspark.sql import functions"
      ],
      "execution_count": 0,
      "outputs": []
    },
    {
      "cell_type": "code",
      "metadata": {
        "id": "jsDd7yOFenyL",
        "colab_type": "code",
        "colab": {
          "base_uri": "https://localhost:8080/",
          "height": 55
        },
        "outputId": "59a73a24-dced-43cd-9c08-dada45a81579"
      },
      "source": [
        "print(dir(functions))"
      ],
      "execution_count": 52,
      "outputs": [
        {
          "output_type": "stream",
          "text": [
            "['AutoBatchedSerializer', 'Column', 'DataFrame', 'DataType', 'PandasUDFType', 'PickleSerializer', 'PythonEvalType', 'SparkContext', 'StringType', 'UserDefinedFunction', '__all__', '__builtins__', '__cached__', '__doc__', '__file__', '__loader__', '__name__', '__package__', '__spec__', '_binary_mathfunctions', '_collect_list_doc', '_collect_set_doc', '_create_binary_mathfunction', '_create_function', '_create_udf', '_create_window_function', '_functions', '_functions_1_4', '_functions_1_6', '_functions_2_1', '_functions_deprecated', '_lit_doc', '_message', '_string_functions', '_test', '_to_java_column', '_to_seq', '_window_functions', '_wrap_deprecated_function', 'abs', 'acos', 'add_months', 'approxCountDistinct', 'approx_count_distinct', 'array', 'array_contains', 'asc', 'ascii', 'asin', 'atan', 'atan2', 'avg', 'base64', 'bin', 'bitwiseNOT', 'blacklist', 'broadcast', 'bround', 'cbrt', 'ceil', 'coalesce', 'col', 'collect_list', 'collect_set', 'column', 'concat', 'concat_ws', 'conv', 'corr', 'cos', 'cosh', 'count', 'countDistinct', 'covar_pop', 'covar_samp', 'crc32', 'create_map', 'cume_dist', 'current_date', 'current_timestamp', 'date_add', 'date_format', 'date_sub', 'date_trunc', 'datediff', 'dayofmonth', 'dayofweek', 'dayofyear', 'decode', 'degrees', 'dense_rank', 'desc', 'encode', 'exp', 'explode', 'explode_outer', 'expm1', 'expr', 'factorial', 'first', 'floor', 'format_number', 'format_string', 'from_json', 'from_unixtime', 'from_utc_timestamp', 'functools', 'get_json_object', 'greatest', 'grouping', 'grouping_id', 'hash', 'hex', 'hour', 'hypot', 'ignore_unicode_prefix', 'initcap', 'input_file_name', 'instr', 'isnan', 'isnull', 'json_tuple', 'kurtosis', 'lag', 'last', 'last_day', 'lead', 'least', 'length', 'levenshtein', 'lit', 'locate', 'log', 'log10', 'log1p', 'log2', 'lower', 'lpad', 'ltrim', 'map_keys', 'map_values', 'math', 'max', 'md5', 'mean', 'min', 'minute', 'monotonically_increasing_id', 'month', 'months_between', 'nanvl', 'next_day', 'ntile', 'pandas_udf', 'percent_rank', 'posexplode', 'posexplode_outer', 'pow', 'quarter', 'radians', 'rand', 'randn', 'rank', 'regexp_extract', 'regexp_replace', 'repeat', 'reverse', 'rint', 'round', 'row_number', 'rpad', 'rtrim', 'second', 'sha1', 'sha2', 'shiftLeft', 'shiftRight', 'shiftRightUnsigned', 'signum', 'sin', 'since', 'sinh', 'size', 'skewness', 'sort_array', 'soundex', 'spark_partition_id', 'split', 'sqrt', 'stddev', 'stddev_pop', 'stddev_samp', 'struct', 'substring', 'substring_index', 'sum', 'sumDistinct', 'sys', 'tan', 'tanh', 'toDegrees', 'toRadians', 'to_date', 'to_json', 'to_timestamp', 'to_utc_timestamp', 'translate', 'trim', 'trunc', 'udf', 'unbase64', 'unhex', 'unix_timestamp', 'upper', 'var_pop', 'var_samp', 'variance', 'warnings', 'weekofyear', 'when', 'window', 'year']\n"
          ],
          "name": "stdout"
        }
      ]
    },
    {
      "cell_type": "code",
      "metadata": {
        "id": "nuqMX1mketkA",
        "colab_type": "code",
        "colab": {}
      },
      "source": [
        "from pyspark.sql.functions import lower, upper, substring"
      ],
      "execution_count": 0,
      "outputs": []
    },
    {
      "cell_type": "code",
      "metadata": {
        "id": "Mo1KEdpue8cQ",
        "colab_type": "code",
        "colab": {
          "base_uri": "https://localhost:8080/",
          "height": 277
        },
        "outputId": "69a4f0a5-465c-4b4d-8559-899403fa348e"
      },
      "source": [
        "help(substring)"
      ],
      "execution_count": 55,
      "outputs": [
        {
          "output_type": "stream",
          "text": [
            "Help on function substring in module pyspark.sql.functions:\n",
            "\n",
            "substring(str, pos, len)\n",
            "    Substring starts at `pos` and is of length `len` when str is String type or\n",
            "    returns the slice of byte array that starts at `pos` in byte and is of length `len`\n",
            "    when str is Binary type.\n",
            "    \n",
            "    .. note:: The position is not zero based, but 1 based index.\n",
            "    \n",
            "    >>> df = spark.createDataFrame([('abcd',)], ['s',])\n",
            "    >>> df.select(substring(df.s, 1, 2).alias('s')).collect()\n",
            "    [Row(s='ab')]\n",
            "    \n",
            "    .. versionadded:: 1.5\n",
            "\n"
          ],
          "name": "stdout"
        }
      ]
    },
    {
      "cell_type": "code",
      "metadata": {
        "id": "8Faey1X-e-Y6",
        "colab_type": "code",
        "colab": {
          "base_uri": "https://localhost:8080/",
          "height": 433
        },
        "outputId": "17aba6eb-8a86-4557-fe41-95ec7cc657fd"
      },
      "source": [
        "rc.printSchema()"
      ],
      "execution_count": 56,
      "outputs": [
        {
          "output_type": "stream",
          "text": [
            "root\n",
            " |-- ID: string (nullable = true)\n",
            " |-- Case Number: string (nullable = true)\n",
            " |-- Date: timestamp (nullable = true)\n",
            " |-- Block: string (nullable = true)\n",
            " |-- IUCR: string (nullable = true)\n",
            " |-- Primary Type: string (nullable = true)\n",
            " |-- Description: string (nullable = true)\n",
            " |-- Location Description: string (nullable = true)\n",
            " |-- Arrest: string (nullable = true)\n",
            " |-- Domestic: string (nullable = true)\n",
            " |-- Beat: string (nullable = true)\n",
            " |-- District: string (nullable = true)\n",
            " |-- Ward: string (nullable = true)\n",
            " |-- Community Area: string (nullable = true)\n",
            " |-- FBI Code: string (nullable = true)\n",
            " |-- X Coordinate: string (nullable = true)\n",
            " |-- Y Coordinate: string (nullable = true)\n",
            " |-- Year: string (nullable = true)\n",
            " |-- Updated On: string (nullable = true)\n",
            " |-- Latitude: string (nullable = true)\n",
            " |-- Longitude: string (nullable = true)\n",
            " |-- Location: string (nullable = true)\n",
            "\n"
          ],
          "name": "stdout"
        }
      ]
    },
    {
      "cell_type": "code",
      "metadata": {
        "id": "7EQ5K_NzfG_u",
        "colab_type": "code",
        "colab": {
          "base_uri": "https://localhost:8080/",
          "height": 173
        },
        "outputId": "53756ccd-43d8-4624-cbb6-0f41103e9ee0"
      },
      "source": [
        "rc.select(lower(col('Primary Type')), upper(col('Primary Type')), substring(col('Primary Type'), 1, 3)).show(3)"
      ],
      "execution_count": 58,
      "outputs": [
        {
          "output_type": "stream",
          "text": [
            "+-------------------+-------------------+-----------------------------+\n",
            "|lower(Primary Type)|upper(Primary Type)|substring(Primary Type, 1, 3)|\n",
            "+-------------------+-------------------+-----------------------------+\n",
            "| deceptive practice| DECEPTIVE PRACTICE|                          DEC|\n",
            "|crim sexual assault|CRIM SEXUAL ASSAULT|                          CRI|\n",
            "|           burglary|           BURGLARY|                          BUR|\n",
            "+-------------------+-------------------+-----------------------------+\n",
            "only showing top 3 rows\n",
            "\n"
          ],
          "name": "stdout"
        }
      ]
    },
    {
      "cell_type": "code",
      "metadata": {
        "id": "fVwSwt6zfr4I",
        "colab_type": "code",
        "colab": {}
      },
      "source": [
        "from pyspark.sql.functions import min, max"
      ],
      "execution_count": 0,
      "outputs": []
    },
    {
      "cell_type": "code",
      "metadata": {
        "id": "Bvzw-lkVfxbA",
        "colab_type": "code",
        "colab": {
          "base_uri": "https://localhost:8080/",
          "height": 121
        },
        "outputId": "652b6194-b4fa-43ce-b68d-5aa6366ba6f4"
      },
      "source": [
        "rc.select(min(col('Date')), max(col('Date'))).show(3)"
      ],
      "execution_count": 61,
      "outputs": [
        {
          "output_type": "stream",
          "text": [
            "+-------------------+-------------------+\n",
            "|          min(Date)|          max(Date)|\n",
            "+-------------------+-------------------+\n",
            "|2001-01-01 00:00:00|2018-11-10 23:55:00|\n",
            "+-------------------+-------------------+\n",
            "\n"
          ],
          "name": "stdout"
        }
      ]
    },
    {
      "cell_type": "code",
      "metadata": {
        "id": "a1SlsrI-gH0K",
        "colab_type": "code",
        "colab": {}
      },
      "source": [
        "from pyspark.sql.functions import date_add, date_sub"
      ],
      "execution_count": 0,
      "outputs": []
    },
    {
      "cell_type": "code",
      "metadata": {
        "id": "1tKLvKFwgTYn",
        "colab_type": "code",
        "colab": {
          "base_uri": "https://localhost:8080/",
          "height": 208
        },
        "outputId": "59dff977-68b4-4ea0-f72a-69c7fb4aed3a"
      },
      "source": [
        "help(date_add)"
      ],
      "execution_count": 63,
      "outputs": [
        {
          "output_type": "stream",
          "text": [
            "Help on function date_add in module pyspark.sql.functions:\n",
            "\n",
            "date_add(start, days)\n",
            "    Returns the date that is `days` days after `start`\n",
            "    \n",
            "    >>> df = spark.createDataFrame([('2015-04-08',)], ['dt'])\n",
            "    >>> df.select(date_add(df.dt, 1).alias('next_date')).collect()\n",
            "    [Row(next_date=datetime.date(2015, 4, 9))]\n",
            "    \n",
            "    .. versionadded:: 1.5\n",
            "\n"
          ],
          "name": "stdout"
        }
      ]
    },
    {
      "cell_type": "code",
      "metadata": {
        "id": "8L-UNWG0gVrJ",
        "colab_type": "code",
        "colab": {
          "base_uri": "https://localhost:8080/",
          "height": 208
        },
        "outputId": "1b950b87-67e3-4a45-c2aa-49d2051c7cc1"
      },
      "source": [
        "help(date_sub)"
      ],
      "execution_count": 64,
      "outputs": [
        {
          "output_type": "stream",
          "text": [
            "Help on function date_sub in module pyspark.sql.functions:\n",
            "\n",
            "date_sub(start, days)\n",
            "    Returns the date that is `days` days before `start`\n",
            "    \n",
            "    >>> df = spark.createDataFrame([('2015-04-08',)], ['dt'])\n",
            "    >>> df.select(date_sub(df.dt, 1).alias('prev_date')).collect()\n",
            "    [Row(prev_date=datetime.date(2015, 4, 7))]\n",
            "    \n",
            "    .. versionadded:: 1.5\n",
            "\n"
          ],
          "name": "stdout"
        }
      ]
    },
    {
      "cell_type": "code",
      "metadata": {
        "id": "Oq3DT0vfgW91",
        "colab_type": "code",
        "colab": {
          "base_uri": "https://localhost:8080/",
          "height": 173
        },
        "outputId": "decd1dff-a217-44c6-b5d3-73f70a464649"
      },
      "source": [
        "rc.select(date_add(col('Date'), 3)).show(3)"
      ],
      "execution_count": 66,
      "outputs": [
        {
          "output_type": "stream",
          "text": [
            "+-----------------+\n",
            "|date_add(Date, 3)|\n",
            "+-----------------+\n",
            "|       2001-01-04|\n",
            "|       2017-10-11|\n",
            "|       2017-03-31|\n",
            "+-----------------+\n",
            "only showing top 3 rows\n",
            "\n"
          ],
          "name": "stdout"
        }
      ]
    },
    {
      "cell_type": "code",
      "metadata": {
        "id": "fT-V0iQ0gtpy",
        "colab_type": "code",
        "colab": {}
      },
      "source": [
        "from pyspark.sql.functions import to_date, to_timestamp, lit #lit: literal function"
      ],
      "execution_count": 0,
      "outputs": []
    },
    {
      "cell_type": "code",
      "metadata": {
        "id": "CrnRiKtMtE7b",
        "colab_type": "code",
        "colab": {
          "base_uri": "https://localhost:8080/",
          "height": 121
        },
        "outputId": "1c3b736f-cd0d-46cd-c009-0d864c9d3206"
      },
      "source": [
        "df = spark.createDataFrame([('2009-12-25 13:30:00',)], ['Christmas'])\n",
        "df.show()"
      ],
      "execution_count": 69,
      "outputs": [
        {
          "output_type": "stream",
          "text": [
            "+-------------------+\n",
            "|          Christmas|\n",
            "+-------------------+\n",
            "|2009-12-25 13:30:00|\n",
            "+-------------------+\n",
            "\n"
          ],
          "name": "stdout"
        }
      ]
    },
    {
      "cell_type": "code",
      "metadata": {
        "id": "3_d9CEYRtanQ",
        "colab_type": "code",
        "colab": {
          "base_uri": "https://localhost:8080/",
          "height": 121
        },
        "outputId": "584d937e-37ae-4bfc-9dd3-9c994ffba5ff"
      },
      "source": [
        "df.select(to_date(col('Christmas'), 'yyyy-MM-dd HH:mm:ss'), to_timestamp(col('Christmas'), 'yyyy-MM-dd HH:mm:ss')).show()"
      ],
      "execution_count": 71,
      "outputs": [
        {
          "output_type": "stream",
          "text": [
            "+-------------------------------------------+------------------------------------------------+\n",
            "|to_date(`Christmas`, 'yyyy-MM-dd HH:mm:ss')|to_timestamp(`Christmas`, 'yyyy-MM-dd HH:mm:ss')|\n",
            "+-------------------------------------------+------------------------------------------------+\n",
            "|                                 2009-12-25|                             2009-12-25 13:30:00|\n",
            "+-------------------------------------------+------------------------------------------------+\n",
            "\n"
          ],
          "name": "stdout"
        }
      ]
    },
    {
      "cell_type": "code",
      "metadata": {
        "id": "yODzVQSkt-LU",
        "colab_type": "code",
        "colab": {
          "base_uri": "https://localhost:8080/",
          "height": 121
        },
        "outputId": "e94bdb11-d279-4c1d-bba9-514b7a95abff"
      },
      "source": [
        "df = spark.createDataFrame([('25/Dec/2019 13:30:00',)], ['Christmas'])\n",
        "df.show()"
      ],
      "execution_count": 72,
      "outputs": [
        {
          "output_type": "stream",
          "text": [
            "+--------------------+\n",
            "|           Christmas|\n",
            "+--------------------+\n",
            "|25/Dec/2019 13:30:00|\n",
            "+--------------------+\n",
            "\n"
          ],
          "name": "stdout"
        }
      ]
    },
    {
      "cell_type": "code",
      "metadata": {
        "id": "_72pyOBNuOLm",
        "colab_type": "code",
        "colab": {
          "base_uri": "https://localhost:8080/",
          "height": 121
        },
        "outputId": "f0f8e823-89b7-4eb7-d8ab-07c1a2cb6218"
      },
      "source": [
        "df.select(to_date(col('Christmas'), 'dd/MMM/yyyy HH:mm:ss'), to_timestamp(col('Christmas'), 'dd/MMM/yyyy HH:mm:ss')).show()"
      ],
      "execution_count": 73,
      "outputs": [
        {
          "output_type": "stream",
          "text": [
            "+--------------------------------------------+-------------------------------------------------+\n",
            "|to_date(`Christmas`, 'dd/MMM/yyyy HH:mm:ss')|to_timestamp(`Christmas`, 'dd/MMM/yyyy HH:mm:ss')|\n",
            "+--------------------------------------------+-------------------------------------------------+\n",
            "|                                  2019-12-25|                              2019-12-25 13:30:00|\n",
            "+--------------------------------------------+-------------------------------------------------+\n",
            "\n"
          ],
          "name": "stdout"
        }
      ]
    },
    {
      "cell_type": "code",
      "metadata": {
        "id": "tTdcPsePuho7",
        "colab_type": "code",
        "colab": {
          "base_uri": "https://localhost:8080/",
          "height": 121
        },
        "outputId": "83a0da3f-76fd-4291-a7b9-95712041494d"
      },
      "source": [
        "df = spark.createDataFrame([('12/25/2019 01:30:00 PM',)], ['Christmas'])\n",
        "df.show(truncate=False)"
      ],
      "execution_count": 78,
      "outputs": [
        {
          "output_type": "stream",
          "text": [
            "+----------------------+\n",
            "|Christmas             |\n",
            "+----------------------+\n",
            "|12/25/2019 01:30:00 PM|\n",
            "+----------------------+\n",
            "\n"
          ],
          "name": "stdout"
        }
      ]
    },
    {
      "cell_type": "code",
      "metadata": {
        "id": "gBki1IFcu2yR",
        "colab_type": "code",
        "colab": {
          "base_uri": "https://localhost:8080/",
          "height": 121
        },
        "outputId": "2c364eae-cfa8-4628-d2ab-c9b739917675"
      },
      "source": [
        "df.select(to_date(col('Christmas'), 'MM/dd/yyyy hh:mm:ss aa'), to_timestamp(col('Christmas'), 'MM/dd/yyyy hh:mm:ss aa')).show()"
      ],
      "execution_count": 79,
      "outputs": [
        {
          "output_type": "stream",
          "text": [
            "+----------------------------------------------+---------------------------------------------------+\n",
            "|to_date(`Christmas`, 'MM/dd/yyyy hh:mm:ss aa')|to_timestamp(`Christmas`, 'MM/dd/yyyy hh:mm:ss aa')|\n",
            "+----------------------------------------------+---------------------------------------------------+\n",
            "|                                    2019-12-25|                                2019-12-25 13:30:00|\n",
            "+----------------------------------------------+---------------------------------------------------+\n",
            "\n"
          ],
          "name": "stdout"
        }
      ]
    },
    {
      "cell_type": "code",
      "metadata": {
        "id": "wv5lCkVzu2Sh",
        "colab_type": "code",
        "colab": {}
      },
      "source": [
        "from pyspark.sql.functions import lpad"
      ],
      "execution_count": 0,
      "outputs": []
    },
    {
      "cell_type": "code",
      "metadata": {
        "id": "VoHyIKD--A_1",
        "colab_type": "code",
        "colab": {
          "base_uri": "https://localhost:8080/",
          "height": 208
        },
        "outputId": "ea68c790-ad89-439e-9046-3b83fcb1084d"
      },
      "source": [
        "help(lpad)"
      ],
      "execution_count": 89,
      "outputs": [
        {
          "output_type": "stream",
          "text": [
            "Help on function lpad in module pyspark.sql.functions:\n",
            "\n",
            "lpad(col, len, pad)\n",
            "    Left-pad the string column to width `len` with `pad`.\n",
            "    \n",
            "    >>> df = spark.createDataFrame([('abcd',)], ['s',])\n",
            "    >>> df.select(lpad(df.s, 6, '#').alias('s')).collect()\n",
            "    [Row(s='##abcd')]\n",
            "    \n",
            "    .. versionadded:: 1.5\n",
            "\n"
          ],
          "name": "stdout"
        }
      ]
    },
    {
      "cell_type": "markdown",
      "metadata": {
        "id": "A0XRZ06YBwhs",
        "colab_type": "text"
      },
      "source": [
        "**What is the most frequently reported non-criminal activity?**"
      ]
    },
    {
      "cell_type": "code",
      "metadata": {
        "id": "lecXwsQg-FHu",
        "colab_type": "code",
        "colab": {
          "base_uri": "https://localhost:8080/",
          "height": 399
        },
        "outputId": "34b25db9-7ac6-4cff-9885-dd0b86d2e261"
      },
      "source": [
        "rc.columns"
      ],
      "execution_count": 90,
      "outputs": [
        {
          "output_type": "execute_result",
          "data": {
            "text/plain": [
              "['ID',\n",
              " 'Case Number',\n",
              " 'Date',\n",
              " 'Block',\n",
              " 'IUCR',\n",
              " 'Primary Type',\n",
              " 'Description',\n",
              " 'Location Description',\n",
              " 'Arrest',\n",
              " 'Domestic',\n",
              " 'Beat',\n",
              " 'District',\n",
              " 'Ward',\n",
              " 'Community Area',\n",
              " 'FBI Code',\n",
              " 'X Coordinate',\n",
              " 'Y Coordinate',\n",
              " 'Year',\n",
              " 'Updated On',\n",
              " 'Latitude',\n",
              " 'Longitude',\n",
              " 'Location']"
            ]
          },
          "metadata": {
            "tags": []
          },
          "execution_count": 90
        }
      ]
    },
    {
      "cell_type": "code",
      "metadata": {
        "id": "JcEHB0Yb-0Oa",
        "colab_type": "code",
        "colab": {
          "base_uri": "https://localhost:8080/",
          "height": 228
        },
        "outputId": "22a74064-5418-4c17-b6fd-5016eb8b5e5f"
      },
      "source": [
        "rc.show(5)"
      ],
      "execution_count": 91,
      "outputs": [
        {
          "output_type": "stream",
          "text": [
            "+--------+-----------+-------------------+--------------------+----+-------------------+--------------------+--------------------+------+--------+----+--------+----+--------------+--------+------------+------------+----+--------------------+--------+---------+--------+\n",
            "|      ID|Case Number|               Date|               Block|IUCR|       Primary Type|         Description|Location Description|Arrest|Domestic|Beat|District|Ward|Community Area|FBI Code|X Coordinate|Y Coordinate|Year|          Updated On|Latitude|Longitude|Location|\n",
            "+--------+-----------+-------------------+--------------------+----+-------------------+--------------------+--------------------+------+--------+----+--------+----+--------------+--------+------------+------------+----+--------------------+--------+---------+--------+\n",
            "|11034701|   JA366925|2001-01-01 11:00:00|     016XX E 86TH PL|1153| DECEPTIVE PRACTICE|FINANCIAL IDENTIT...|           RESIDENCE| false|   false|0412|     004|   8|            45|      11|        null|        null|2001|08/05/2017 03:50:...|    null|     null|    null|\n",
            "|11227287|   JB147188|2017-10-08 03:00:00|  092XX S RACINE AVE|0281|CRIM SEXUAL ASSAULT|      NON-AGGRAVATED|           RESIDENCE| false|   false|2222|     022|  21|            73|      02|        null|        null|2017|02/11/2018 03:57:...|    null|     null|    null|\n",
            "|11227583|   JB147595|2017-03-28 14:00:00|     026XX W 79TH ST|0620|           BURGLARY|      UNLAWFUL ENTRY|               OTHER| false|   false|0835|     008|  18|            70|      05|        null|        null|2017|02/11/2018 03:57:...|    null|     null|    null|\n",
            "|11227293|   JB147230|2017-09-09 20:17:00|060XX S EBERHART AVE|0810|              THEFT|           OVER $500|           RESIDENCE| false|   false|0313|     003|  20|            42|      06|        null|        null|2017|02/11/2018 03:57:...|    null|     null|    null|\n",
            "|11227634|   JB147599|2017-08-26 10:00:00| 001XX W RANDOLPH ST|0281|CRIM SEXUAL ASSAULT|      NON-AGGRAVATED|         HOTEL/MOTEL| false|   false|0122|     001|  42|            32|      02|        null|        null|2017|02/11/2018 03:57:...|    null|     null|    null|\n",
            "+--------+-----------+-------------------+--------------------+----+-------------------+--------------------+--------------------+------+--------+----+--------+----+--------------+--------+------------+------------+----+--------------------+--------+---------+--------+\n",
            "only showing top 5 rows\n",
            "\n"
          ],
          "name": "stdout"
        }
      ]
    },
    {
      "cell_type": "code",
      "metadata": {
        "id": "51pPz3vt-21j",
        "colab_type": "code",
        "colab": {
          "base_uri": "https://localhost:8080/",
          "height": 55
        },
        "outputId": "657dedb7-a847-433d-a92b-e86b324d0fbf"
      },
      "source": [
        "rc.cache()"
      ],
      "execution_count": 92,
      "outputs": [
        {
          "output_type": "execute_result",
          "data": {
            "text/plain": [
              "DataFrame[ID: string, Case Number: string, Date: timestamp, Block: string, IUCR: string, Primary Type: string, Description: string, Location Description: string, Arrest: string, Domestic: string, Beat: string, District: string, Ward: string, Community Area: string, FBI Code: string, X Coordinate: string, Y Coordinate: string, Year: string, Updated On: string, Latitude: string, Longitude: string, Location: string]"
            ]
          },
          "metadata": {
            "tags": []
          },
          "execution_count": 92
        }
      ]
    },
    {
      "cell_type": "code",
      "metadata": {
        "id": "bEb3Zq8K_NR-",
        "colab_type": "code",
        "colab": {
          "base_uri": "https://localhost:8080/",
          "height": 35
        },
        "outputId": "7c6e7e45-868f-4c94-d4bc-de5fe96f8ad4"
      },
      "source": [
        "rc.count()"
      ],
      "execution_count": 95,
      "outputs": [
        {
          "output_type": "execute_result",
          "data": {
            "text/plain": [
              "6751867"
            ]
          },
          "metadata": {
            "tags": []
          },
          "execution_count": 95
        }
      ]
    },
    {
      "cell_type": "code",
      "metadata": {
        "id": "0hfC7nA5_Y4j",
        "colab_type": "code",
        "colab": {
          "base_uri": "https://localhost:8080/",
          "height": 35
        },
        "outputId": "9bd79e0e-1f22-46a6-c631-0016aa3ab73c"
      },
      "source": [
        "rc.select(col('Primary Type')).distinct().count()"
      ],
      "execution_count": 96,
      "outputs": [
        {
          "output_type": "execute_result",
          "data": {
            "text/plain": [
              "35"
            ]
          },
          "metadata": {
            "tags": []
          },
          "execution_count": 96
        }
      ]
    },
    {
      "cell_type": "code",
      "metadata": {
        "id": "OtjBGRZz_m5L",
        "colab_type": "code",
        "colab": {
          "base_uri": "https://localhost:8080/",
          "height": 711
        },
        "outputId": "df073a53-84ce-4204-95e6-78b2dfa56727"
      },
      "source": [
        "rc.select(col('Primary Type')).distinct().orderBy('Primary Type').show(35, truncate = False)"
      ],
      "execution_count": 98,
      "outputs": [
        {
          "output_type": "stream",
          "text": [
            "+---------------------------------+\n",
            "|Primary Type                     |\n",
            "+---------------------------------+\n",
            "|ARSON                            |\n",
            "|ASSAULT                          |\n",
            "|BATTERY                          |\n",
            "|BURGLARY                         |\n",
            "|CONCEALED CARRY LICENSE VIOLATION|\n",
            "|CRIM SEXUAL ASSAULT              |\n",
            "|CRIMINAL DAMAGE                  |\n",
            "|CRIMINAL TRESPASS                |\n",
            "|DECEPTIVE PRACTICE               |\n",
            "|DOMESTIC VIOLENCE                |\n",
            "|GAMBLING                         |\n",
            "|HOMICIDE                         |\n",
            "|HUMAN TRAFFICKING                |\n",
            "|INTERFERENCE WITH PUBLIC OFFICER |\n",
            "|INTIMIDATION                     |\n",
            "|KIDNAPPING                       |\n",
            "|LIQUOR LAW VIOLATION             |\n",
            "|MOTOR VEHICLE THEFT              |\n",
            "|NARCOTICS                        |\n",
            "|NON - CRIMINAL                   |\n",
            "|NON-CRIMINAL                     |\n",
            "|NON-CRIMINAL (SUBJECT SPECIFIED) |\n",
            "|OBSCENITY                        |\n",
            "|OFFENSE INVOLVING CHILDREN       |\n",
            "|OTHER NARCOTIC VIOLATION         |\n",
            "|OTHER OFFENSE                    |\n",
            "|PROSTITUTION                     |\n",
            "|PUBLIC INDECENCY                 |\n",
            "|PUBLIC PEACE VIOLATION           |\n",
            "|RITUALISM                        |\n",
            "|ROBBERY                          |\n",
            "|SEX OFFENSE                      |\n",
            "|STALKING                         |\n",
            "|THEFT                            |\n",
            "|WEAPONS VIOLATION                |\n",
            "+---------------------------------+\n",
            "\n"
          ],
          "name": "stdout"
        }
      ]
    },
    {
      "cell_type": "code",
      "metadata": {
        "id": "dh2nhfKXANFh",
        "colab_type": "code",
        "colab": {
          "base_uri": "https://localhost:8080/",
          "height": 35
        },
        "outputId": "a48545b0-54c0-4428-f7c3-f25b3a9e014f"
      },
      "source": [
        "nc = rc.filter((col('Primary Type') == 'NON - CRIMINAL')|(col('Primary Type') == 'NON-CRIMINAL')|(col('Primary Type') == 'NON-CRIMINAL (SUBJECT SPECIFIED)'))\n",
        "nc.count()"
      ],
      "execution_count": 99,
      "outputs": [
        {
          "output_type": "execute_result",
          "data": {
            "text/plain": [
              "211"
            ]
          },
          "metadata": {
            "tags": []
          },
          "execution_count": 99
        }
      ]
    },
    {
      "cell_type": "code",
      "metadata": {
        "id": "8SjbFEFCBQ9e",
        "colab_type": "code",
        "colab": {
          "base_uri": "https://localhost:8080/",
          "height": 488
        },
        "outputId": "3afed889-d5d6-4d64-e97f-f8d43fea97d6"
      },
      "source": [
        "nc.show()"
      ],
      "execution_count": 100,
      "outputs": [
        {
          "output_type": "stream",
          "text": [
            "+--------+-----------+-------------------+--------------------+----+--------------+--------------------+--------------------+------+--------+----+--------+----+--------------+--------+------------+------------+----+--------------------+------------+-------------+--------------------+\n",
            "|      ID|Case Number|               Date|               Block|IUCR|  Primary Type|         Description|Location Description|Arrest|Domestic|Beat|District|Ward|Community Area|FBI Code|X Coordinate|Y Coordinate|Year|          Updated On|    Latitude|    Longitude|            Location|\n",
            "+--------+-----------+-------------------+--------------------+----+--------------+--------------------+--------------------+------+--------+----+--------+----+--------------+--------+------------+------------+----+--------------------+------------+-------------+--------------------+\n",
            "|11249289|   JB176638|2016-12-23 12:00:00| 0000X N CENTRAL AVE|5093|  NON-CRIMINAL|       LOST PASSPORT|           RESIDENCE| false|   false|1513|     015|  29|            25|      26|        null|        null|2016|03/08/2018 03:55:...|        null|         null|                null|\n",
            "|10813751|   JA113073|2003-03-17 20:00:00| 029XX N MELVINA AVE|5093|  NON-CRIMINAL|       LOST PASSPORT|           RESIDENCE| false|   false|2511|     025|  29|            19|      26|        null|        null|2003|01/14/2017 03:49:...|        null|         null|                null|\n",
            "|10579978|   HZ328710|2015-12-25 09:00:00|036XX W FULLERTON...|5093|  NON-CRIMINAL|       LOST PASSPORT|            SIDEWALK| false|   false|2525|     025|  35|            22|      26|        null|        null|2015|06/30/2016 03:51:...|        null|         null|                null|\n",
            "|10422305|   HZ160770|2009-02-22 08:00:00|     024XX W 24TH PL|5093|  NON-CRIMINAL|       LOST PASSPORT|               OTHER| false|   false|1034|     010|  25|            31|      26|        null|        null|2009|02/22/2016 04:09:...|        null|         null|                null|\n",
            "|10828494|   JA129454|2014-10-17 13:05:00|053XX N CUMBERLAN...|5093|  NON-CRIMINAL|       LOST PASSPORT|           APARTMENT| false|   false|1614|     016|  41|            76|      26|        null|        null|2014|01/26/2017 03:48:...|        null|         null|                null|\n",
            "|10316326|   HY505345|2015-11-17 19:30:00|051XX S WENTWORTH...|5114|  NON-CRIMINAL|   FOID - REVOCATION|POLICE FACILITY/V...|  true|    true|0225|     002|   3|            37|      26|        null|        null|2015|02/09/2018 03:44:...|        null|         null|                null|\n",
            "|10385966|   HZ122461|2015-11-20 15:00:00| 010XX S MONITOR AVE|5093|  NON-CRIMINAL|       LOST PASSPORT|           RESIDENCE| false|   false|1513|     015|  29|            25|      26|        null|        null|2015|02/09/2018 03:44:...|        null|         null|                null|\n",
            "|11397021|   JB371684|2017-10-30 09:00:00|015XX W HOLLYWOOD...|5093|  NON-CRIMINAL|       LOST PASSPORT|           APARTMENT| false|   false|2012|     020|  40|            77|      26|        null|        null|2017|07/31/2018 03:50:...|        null|         null|                null|\n",
            "|11420921|   HY535672|2015-12-13 14:34:00|    100XX W OHARE ST|5093|  NON-CRIMINAL|       LOST PASSPORT|AIRPORT TERMINAL ...| false|   false|1651|     016|  41|            76|      26|        null|        null|2015|08/21/2018 04:05:...|        null|         null|                null|\n",
            "|10062441|   HY250685|2015-05-07 13:20:00| 012XX S HARDING AVE|5114|NON - CRIMINAL|   FOID - REVOCATION|           RESIDENCE| false|   false|1011|     010|  24|            29|      26|     1150243|     1894129|2015|02/10/2018 03:50:...|41.865394646|-87.723928428|(41.865394646, -8...|\n",
            "|10064717|   HY253344|2015-05-08 13:15:00|051XX S WENTWORTH...|5114|NON - CRIMINAL|   FOID - REVOCATION|POLICE FACILITY/V...| false|   false|0225|     002|   3|            37|      26|     1175826|     1871120|2015|02/10/2018 03:50:...| 41.80171934|-87.630703621|(41.80171934, -87...|\n",
            "|10072565|   HY261001|2015-05-14 10:30:00|    006XX N WELLS ST|5114|NON - CRIMINAL|   FOID - REVOCATION|              STREET| false|   false|1832|     018|  42|             8|      26|     1174623|     1904537|2015|02/10/2018 03:50:...| 41.89344506|-87.634117632|(41.89344506, -87...|\n",
            "|10109156|   HY297801|2015-06-12 09:00:00|    053XX S NEVA AVE|5114|NON - CRIMINAL|   FOID - REVOCATION|           RESIDENCE| false|   false|0811|     008|  23|            56|      26|     1129584|     1868411|2015|02/10/2018 03:50:...|41.795197456|-87.800355525|(41.795197456, -8...|\n",
            "|10115077|   HY304017|2015-06-16 19:00:00|  081XX S WHIPPLE ST|5114|NON - CRIMINAL|   FOID - REVOCATION|           RESIDENCE| false|   false|0835|     008|  18|            70|      26|     1157460|     1850515|2015|02/10/2018 03:50:...|41.745568408|-87.698616805|(41.745568408, -8...|\n",
            "|10124614|   HY313353|2015-06-23 17:05:00|085XX W WINNEMAC AVE|5114|NON - CRIMINAL|   FOID - REVOCATION|           RESIDENCE|  true|   false|1614|     016|  41|            76|      26|     1118538|     1932386|2015|02/10/2018 03:50:...|41.970936043|-87.839512637|(41.970936043, -8...|\n",
            "|10125981|   HY314305|2015-06-24 15:30:00|021XX N CALIFORNI...|5114|NON - CRIMINAL|   FOID - REVOCATION|POLICE FACILITY/V...| false|   false|1414|     014|  35|            22|      26|     1157345|     1914452|2015|02/10/2018 03:50:...|41.921021491| -87.69730355|(41.921021491, -8...|\n",
            "|10127418|   HY315600|2015-06-25 15:30:00|     022XX W 51ST ST|5114|NON - CRIMINAL|   FOID - REVOCATION|           RESIDENCE| false|   false|0931|     009|  16|            63|      26|     1162194|     1870807|2015|02/10/2018 03:50:...|41.801155339| -87.68070621|(41.801155339, -8...|\n",
            "|10127785|   HY316123|2015-06-25 22:45:00|051XX N MILWAUKEE...|5114|NON - CRIMINAL|   FOID - REVOCATION|POLICE FACILITY/V...|  true|   false|1623|     016|  45|            11|      26|     1138424|     1933673|2015|02/10/2018 03:50:...|41.974129858|-87.766357256|(41.974129858, -8...|\n",
            "|10128364|   HY316525|2015-06-26 10:45:00|035XX S MICHIGAN AVE|5114|NON - CRIMINAL|   FOID - REVOCATION|POLICE FACILITY/V...| false|   false|0213|     002|   3|            35|      26|     1177772|     1881665|2015|02/10/2018 03:50:...|41.830611847|-87.623247369|(41.830611847, -8...|\n",
            "|10132522|   HY321435|2015-06-29 22:23:00|     044XX W 76TH ST|1481|  NON-CRIMINAL|CONCEALED CARRY L...|              STREET|  true|   false|0833|     008|  13|            65|      15|     1148140|     1853871|2015|08/17/2015 03:03:...|41.754961443|-87.732681619|(41.754961443, -8...|\n",
            "+--------+-----------+-------------------+--------------------+----+--------------+--------------------+--------------------+------+--------+----+--------+----+--------------+--------+------------+------------+----+--------------------+------------+-------------+--------------------+\n",
            "only showing top 20 rows\n",
            "\n"
          ],
          "name": "stdout"
        }
      ]
    },
    {
      "cell_type": "code",
      "metadata": {
        "id": "ZVI2sORkBUOl",
        "colab_type": "code",
        "colab": {
          "base_uri": "https://localhost:8080/",
          "height": 173
        },
        "outputId": "795dd638-b0c0-4d14-c7c4-c37a5fb150d4"
      },
      "source": [
        "nc.groupBy('Description').count().orderBy('count', ascending = False).show(3)"
      ],
      "execution_count": 102,
      "outputs": [
        {
          "output_type": "stream",
          "text": [
            "+--------------------+-----+\n",
            "|         Description|count|\n",
            "+--------------------+-----+\n",
            "|       LOST PASSPORT|  107|\n",
            "|   FOID - REVOCATION|   75|\n",
            "|NOTIFICATION OF C...|    9|\n",
            "+--------------------+-----+\n",
            "only showing top 3 rows\n",
            "\n"
          ],
          "name": "stdout"
        }
      ]
    },
    {
      "cell_type": "markdown",
      "metadata": {
        "id": "VvP1L2P1B9kc",
        "colab_type": "text"
      },
      "source": [
        "**Which day of the week has the most number of reported crime?**"
      ]
    },
    {
      "cell_type": "code",
      "metadata": {
        "id": "PXBcXui2B9MO",
        "colab_type": "code",
        "colab": {}
      },
      "source": [
        "from pyspark.sql.functions import dayofweek "
      ],
      "execution_count": 0,
      "outputs": []
    },
    {
      "cell_type": "code",
      "metadata": {
        "id": "o9wMDWOTCRiu",
        "colab_type": "code",
        "colab": {
          "base_uri": "https://localhost:8080/",
          "height": 208
        },
        "outputId": "125dd6f1-2f17-4f26-f134-fee2c9321812"
      },
      "source": [
        "help(dayofweek)"
      ],
      "execution_count": 107,
      "outputs": [
        {
          "output_type": "stream",
          "text": [
            "Help on function dayofweek in module pyspark.sql.functions:\n",
            "\n",
            "dayofweek(col)\n",
            "    Extract the day of the week of a given date as integer.\n",
            "    \n",
            "    >>> df = spark.createDataFrame([('2015-04-08',)], ['dt'])\n",
            "    >>> df.select(dayofweek('dt').alias('day')).collect()\n",
            "    [Row(day=4)]\n",
            "    \n",
            "    .. versionadded:: 2.3\n",
            "\n"
          ],
          "name": "stdout"
        }
      ]
    },
    {
      "cell_type": "code",
      "metadata": {
        "id": "_yhcLnZ7DR_I",
        "colab_type": "code",
        "colab": {
          "base_uri": "https://localhost:8080/",
          "height": 329
        },
        "outputId": "de022099-d732-4d6e-9872-dfa5030585bb"
      },
      "source": [
        "from pyspark.sql.functions import date_format\n",
        "help(date_format)"
      ],
      "execution_count": 110,
      "outputs": [
        {
          "output_type": "stream",
          "text": [
            "Help on function date_format in module pyspark.sql.functions:\n",
            "\n",
            "date_format(date, format)\n",
            "    Converts a date/timestamp/string to a value of string in the format specified by the date\n",
            "    format given by the second argument.\n",
            "    \n",
            "    A pattern could be for instance `dd.MM.yyyy` and could return a string like '18.03.1993'. All\n",
            "    pattern letters of the Java class `java.text.SimpleDateFormat` can be used.\n",
            "    \n",
            "    .. note:: Use when ever possible specialized functions like `year`. These benefit from a\n",
            "        specialized implementation.\n",
            "    \n",
            "    >>> df = spark.createDataFrame([('2015-04-08',)], ['dt'])\n",
            "    >>> df.select(date_format('dt', 'MM/dd/yyy').alias('date')).collect()\n",
            "    [Row(date='04/08/2015')]\n",
            "    \n",
            "    .. versionadded:: 1.5\n",
            "\n"
          ],
          "name": "stdout"
        }
      ]
    },
    {
      "cell_type": "code",
      "metadata": {
        "id": "YOTDm4OnCSMe",
        "colab_type": "code",
        "colab": {
          "base_uri": "https://localhost:8080/",
          "height": 193
        },
        "outputId": "119f196c-09ed-4d04-c057-7cac2dc674a6"
      },
      "source": [
        "rc.withColumn('dayofweek', dayofweek(col('Date'))).show(3)"
      ],
      "execution_count": 115,
      "outputs": [
        {
          "output_type": "stream",
          "text": [
            "+--------+-----------+-------------------+------------------+----+-------------------+--------------------+--------------------+------+--------+----+--------+----+--------------+--------+------------+------------+----+--------------------+--------+---------+--------+---------+\n",
            "|      ID|Case Number|               Date|             Block|IUCR|       Primary Type|         Description|Location Description|Arrest|Domestic|Beat|District|Ward|Community Area|FBI Code|X Coordinate|Y Coordinate|Year|          Updated On|Latitude|Longitude|Location|dayofweek|\n",
            "+--------+-----------+-------------------+------------------+----+-------------------+--------------------+--------------------+------+--------+----+--------+----+--------------+--------+------------+------------+----+--------------------+--------+---------+--------+---------+\n",
            "|11034701|   JA366925|2001-01-01 11:00:00|   016XX E 86TH PL|1153| DECEPTIVE PRACTICE|FINANCIAL IDENTIT...|           RESIDENCE| false|   false|0412|     004|   8|            45|      11|        null|        null|2001|08/05/2017 03:50:...|    null|     null|    null|        2|\n",
            "|11227287|   JB147188|2017-10-08 03:00:00|092XX S RACINE AVE|0281|CRIM SEXUAL ASSAULT|      NON-AGGRAVATED|           RESIDENCE| false|   false|2222|     022|  21|            73|      02|        null|        null|2017|02/11/2018 03:57:...|    null|     null|    null|        1|\n",
            "|11227583|   JB147595|2017-03-28 14:00:00|   026XX W 79TH ST|0620|           BURGLARY|      UNLAWFUL ENTRY|               OTHER| false|   false|0835|     008|  18|            70|      05|        null|        null|2017|02/11/2018 03:57:...|    null|     null|    null|        3|\n",
            "+--------+-----------+-------------------+------------------+----+-------------------+--------------------+--------------------+------+--------+----+--------+----+--------------+--------+------------+------------+----+--------------------+--------+---------+--------+---------+\n",
            "only showing top 3 rows\n",
            "\n"
          ],
          "name": "stdout"
        }
      ]
    },
    {
      "cell_type": "code",
      "metadata": {
        "id": "1fgk072cDnvU",
        "colab_type": "code",
        "colab": {
          "base_uri": "https://localhost:8080/",
          "height": 193
        },
        "outputId": "084a02f5-83ff-4b67-ad6e-8ce7878b6139"
      },
      "source": [
        "rc.withColumn('dayName', date_format(col('Date'), 'E')).show(3)\n"
      ],
      "execution_count": 116,
      "outputs": [
        {
          "output_type": "stream",
          "text": [
            "+--------+-----------+-------------------+------------------+----+-------------------+--------------------+--------------------+------+--------+----+--------+----+--------------+--------+------------+------------+----+--------------------+--------+---------+--------+-------+\n",
            "|      ID|Case Number|               Date|             Block|IUCR|       Primary Type|         Description|Location Description|Arrest|Domestic|Beat|District|Ward|Community Area|FBI Code|X Coordinate|Y Coordinate|Year|          Updated On|Latitude|Longitude|Location|dayName|\n",
            "+--------+-----------+-------------------+------------------+----+-------------------+--------------------+--------------------+------+--------+----+--------+----+--------------+--------+------------+------------+----+--------------------+--------+---------+--------+-------+\n",
            "|11034701|   JA366925|2001-01-01 11:00:00|   016XX E 86TH PL|1153| DECEPTIVE PRACTICE|FINANCIAL IDENTIT...|           RESIDENCE| false|   false|0412|     004|   8|            45|      11|        null|        null|2001|08/05/2017 03:50:...|    null|     null|    null|    Mon|\n",
            "|11227287|   JB147188|2017-10-08 03:00:00|092XX S RACINE AVE|0281|CRIM SEXUAL ASSAULT|      NON-AGGRAVATED|           RESIDENCE| false|   false|2222|     022|  21|            73|      02|        null|        null|2017|02/11/2018 03:57:...|    null|     null|    null|    Sun|\n",
            "|11227583|   JB147595|2017-03-28 14:00:00|   026XX W 79TH ST|0620|           BURGLARY|      UNLAWFUL ENTRY|               OTHER| false|   false|0835|     008|  18|            70|      05|        null|        null|2017|02/11/2018 03:57:...|    null|     null|    null|    Tue|\n",
            "+--------+-----------+-------------------+------------------+----+-------------------+--------------------+--------------------+------+--------+----+--------+----+--------------+--------+------------+------------+----+--------------------+--------+---------+--------+-------+\n",
            "only showing top 3 rows\n",
            "\n"
          ],
          "name": "stdout"
        }
      ]
    },
    {
      "cell_type": "code",
      "metadata": {
        "id": "gvankEGPD5Ff",
        "colab_type": "code",
        "colab": {
          "base_uri": "https://localhost:8080/",
          "height": 225
        },
        "outputId": "1187d01b-d0b8-448e-e11c-a8cc3f2bc523"
      },
      "source": [
        "rc.groupBy(date_format(col('Date'), 'E')).count().orderBy('count', ascending = False).show(7)"
      ],
      "execution_count": 121,
      "outputs": [
        {
          "output_type": "stream",
          "text": [
            "+--------------------+-------+\n",
            "|date_format(Date, E)|  count|\n",
            "+--------------------+-------+\n",
            "|                 Fri|1016761|\n",
            "|                 Wed| 973664|\n",
            "|                 Tue| 967835|\n",
            "|                 Sat| 964993|\n",
            "|                 Thu| 964341|\n",
            "|                 Mon| 952515|\n",
            "|                 Sun| 911758|\n",
            "+--------------------+-------+\n",
            "\n"
          ],
          "name": "stdout"
        }
      ]
    },
    {
      "cell_type": "code",
      "metadata": {
        "id": "xGlWoR9iE2lU",
        "colab_type": "code",
        "colab": {
          "base_uri": "https://localhost:8080/",
          "height": 139
        },
        "outputId": "019cc2b0-1287-4384-d3a4-d041c250c611"
      },
      "source": [
        "rc.groupBy(date_format(col('Date'), 'E')).count().collect()"
      ],
      "execution_count": 122,
      "outputs": [
        {
          "output_type": "execute_result",
          "data": {
            "text/plain": [
              "[Row(date_format(Date, E)='Sun', count=911758),\n",
              " Row(date_format(Date, E)='Mon', count=952515),\n",
              " Row(date_format(Date, E)='Thu', count=964341),\n",
              " Row(date_format(Date, E)='Sat', count=964993),\n",
              " Row(date_format(Date, E)='Wed', count=973664),\n",
              " Row(date_format(Date, E)='Tue', count=967835),\n",
              " Row(date_format(Date, E)='Fri', count=1016761)]"
            ]
          },
          "metadata": {
            "tags": []
          },
          "execution_count": 122
        }
      ]
    },
    {
      "cell_type": "code",
      "metadata": {
        "id": "Fs0lnjbcE4Eb",
        "colab_type": "code",
        "colab": {
          "base_uri": "https://localhost:8080/",
          "height": 52
        },
        "outputId": "fbc254cb-bc8d-4f27-be4c-a427f7b11d15"
      },
      "source": [
        "dow = [x[0] for x in rc.groupBy(date_format(col('Date'), 'E')).count().collect()]\n",
        "count = [x[1] for x in rc.groupBy(date_format(col('Date'), 'E')).count().collect()]\n",
        "print(dow)\n",
        "print(count)"
      ],
      "execution_count": 127,
      "outputs": [
        {
          "output_type": "stream",
          "text": [
            "['Sun', 'Mon', 'Thu', 'Sat', 'Wed', 'Tue', 'Fri']\n",
            "[911758, 952515, 964341, 964993, 973664, 967835, 1016761]\n"
          ],
          "name": "stdout"
        }
      ]
    },
    {
      "cell_type": "code",
      "metadata": {
        "id": "JLLROoUGFUwc",
        "colab_type": "code",
        "colab": {}
      },
      "source": [
        "import pandas as pd\n",
        "import matplotlib.pyplot as plt"
      ],
      "execution_count": 0,
      "outputs": []
    },
    {
      "cell_type": "code",
      "metadata": {
        "id": "HaFcT2GiFcfc",
        "colab_type": "code",
        "colab": {
          "base_uri": "https://localhost:8080/",
          "height": 263
        },
        "outputId": "b2e95450-fd4b-4dd6-f1f8-03cf5b02cc0f"
      },
      "source": [
        "cp = pd.DataFrame({'DayOfWeek' : dow, 'TotalCrimes' : count})\n",
        "cp.head(10)"
      ],
      "execution_count": 130,
      "outputs": [
        {
          "output_type": "execute_result",
          "data": {
            "text/html": [
              "<div>\n",
              "<style scoped>\n",
              "    .dataframe tbody tr th:only-of-type {\n",
              "        vertical-align: middle;\n",
              "    }\n",
              "\n",
              "    .dataframe tbody tr th {\n",
              "        vertical-align: top;\n",
              "    }\n",
              "\n",
              "    .dataframe thead th {\n",
              "        text-align: right;\n",
              "    }\n",
              "</style>\n",
              "<table border=\"1\" class=\"dataframe\">\n",
              "  <thead>\n",
              "    <tr style=\"text-align: right;\">\n",
              "      <th></th>\n",
              "      <th>DayOfWeek</th>\n",
              "      <th>TotalCrimes</th>\n",
              "    </tr>\n",
              "  </thead>\n",
              "  <tbody>\n",
              "    <tr>\n",
              "      <th>0</th>\n",
              "      <td>Sun</td>\n",
              "      <td>911758</td>\n",
              "    </tr>\n",
              "    <tr>\n",
              "      <th>1</th>\n",
              "      <td>Mon</td>\n",
              "      <td>952515</td>\n",
              "    </tr>\n",
              "    <tr>\n",
              "      <th>2</th>\n",
              "      <td>Thu</td>\n",
              "      <td>964341</td>\n",
              "    </tr>\n",
              "    <tr>\n",
              "      <th>3</th>\n",
              "      <td>Sat</td>\n",
              "      <td>964993</td>\n",
              "    </tr>\n",
              "    <tr>\n",
              "      <th>4</th>\n",
              "      <td>Wed</td>\n",
              "      <td>973664</td>\n",
              "    </tr>\n",
              "    <tr>\n",
              "      <th>5</th>\n",
              "      <td>Tue</td>\n",
              "      <td>967835</td>\n",
              "    </tr>\n",
              "    <tr>\n",
              "      <th>6</th>\n",
              "      <td>Fri</td>\n",
              "      <td>1016761</td>\n",
              "    </tr>\n",
              "  </tbody>\n",
              "</table>\n",
              "</div>"
            ],
            "text/plain": [
              "  DayOfWeek  TotalCrimes\n",
              "0       Sun       911758\n",
              "1       Mon       952515\n",
              "2       Thu       964341\n",
              "3       Sat       964993\n",
              "4       Wed       973664\n",
              "5       Tue       967835\n",
              "6       Fri      1016761"
            ]
          },
          "metadata": {
            "tags": []
          },
          "execution_count": 130
        }
      ]
    },
    {
      "cell_type": "code",
      "metadata": {
        "id": "B6z6Ue_JFc9I",
        "colab_type": "code",
        "colab": {
          "base_uri": "https://localhost:8080/",
          "height": 325
        },
        "outputId": "1a8f7af5-4f8e-4d2f-d482-6fcac17be4cb"
      },
      "source": [
        "cp.sort_values('TotalCrimes', ascending = False).plot(kind = 'bar', color = \"green\", x = \"DayOfWeek\", y = \"TotalCrimes\")\n",
        "plt.xlabel(\"Day of Week\")\n",
        "plt.ylabel(\"Number of Crimes\")\n",
        "plt.title(\"Number of crimes per Day of Week\")"
      ],
      "execution_count": 136,
      "outputs": [
        {
          "output_type": "execute_result",
          "data": {
            "text/plain": [
              "Text(0.5, 1.0, 'Number of crimes per Day of Week')"
            ]
          },
          "metadata": {
            "tags": []
          },
          "execution_count": 136
        },
        {
          "output_type": "display_data",
          "data": {
            "image/png": "[encoded data removed]",
            "text/plain": [
              "<Figure size 432x288 with 1 Axes>"
            ]
          },
          "metadata": {
            "tags": []
          }
        }
      ]
    }
  ]
}